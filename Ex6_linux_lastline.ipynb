{
 "cells": [
  {
   "cell_type": "markdown",
   "metadata": {},
   "source": [
    "# Linux\n",
    "\n",
    "### Last Line\n"
   ]
  },
  {
   "cell_type": "markdown",
   "metadata": {},
   "source": [
    "#### Environment\n",
    "* Developed with Bash in a jupyter notebook... because at this point I am hoping to keep solutions consistent\n",
    "\n",
    "### Thought process\n",
    "* Tail\n",
    "\n",
    "#### Solution\n",
    "tail -1 [file]"
   ]
  },
  {
   "cell_type": "code",
   "execution_count": 9,
   "metadata": {},
   "outputs": [
    {
     "name": "stdout",
     "output_type": "stream",
     "text": [
      "\n",
      "File Content:\n",
      "Line 1\n",
      "Line 2\n",
      "Line 3\n",
      "Line 4\n",
      "Line 5\n",
      "Line 6\n",
      "Line 7\n",
      "Line 8\n",
      "Line 9\n",
      "Line 10\n",
      "\n",
      "Last Line:\n",
      "Line 10\n",
      "\n",
      "Please remove 'tail_test.txt' from '/home/dvagg/Desktop/FlashPointCode'\n",
      "I don't want to send a script that deletes a file.. just in case..\n"
     ]
    }
   ],
   "source": [
    "%%bash\n",
    "file_name=tail_test.txt\n",
    "truncate -s 0 $file_name\n",
    "\n",
    "for idx in {1..10}; do\n",
    "    echo \"Line ${idx}\" >> $file_name\n",
    "done\n",
    "\n",
    "echo -e \"\\nFile Content:\"\n",
    "cat $file_name\n",
    "\n",
    "echo -e \"\\nLast Line:\"\n",
    "tail -1 $file_name\n",
    "\n",
    "# Cleanup\n",
    "echo -e \"\\nPlease remove '$file_name' from '$(pwd)'\"\n",
    "echo \"I don't want to send a script that deletes a file.. just in case..\""
   ]
  }
 ],
 "metadata": {
  "kernelspec": {
   "display_name": "Python 3",
   "language": "python",
   "name": "python3"
  },
  "language_info": {
   "codemirror_mode": {
    "name": "ipython",
    "version": 3
   },
   "file_extension": ".py",
   "mimetype": "text/x-python",
   "name": "python",
   "nbconvert_exporter": "python",
   "pygments_lexer": "ipython3",
   "version": "3.5.5"
  }
 },
 "nbformat": 4,
 "nbformat_minor": 2
}
