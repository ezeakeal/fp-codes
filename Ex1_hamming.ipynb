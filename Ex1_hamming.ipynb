{
 "cells": [
  {
   "cell_type": "markdown",
   "metadata": {},
   "source": [
    "# Algorithms\n",
    "\n",
    "## Hamming Distance\n",
    "\n",
    "Write a function that computes the hamming distance between two iterables. \n",
    "The hamming distance is defined as the number of positions where the symbols are different.\n",
    "https://en.wikipedia.org/wiki/Hamming_distance\n",
    "\n",
    "* \"karolin\" and \"kathrin\" is 3.\n",
    "* \"karolin\" and \"kerstin\" is 3.\n",
    "* 1011101 and 1001001 is 2.\n",
    "* 2173896 and 2233796 is 3."
   ]
  },
  {
   "cell_type": "markdown",
   "metadata": {},
   "source": [
    "#### Environment\n",
    "* Developed with Python 3.5.5, installed via Anaconda\n",
    "\n",
    "### Thought process\n",
    "* Haven't used typing before, but have seen it mentioned in some python articles. Now is a good time to try it out!\n",
    "* Looks like an OR type operation might be easiest for a computer to do\n",
    "* Converting from an iterable to a long binary representation is probably not intended\n",
    "    * Might also lead to some interesting bit problems if the iterable is quite long\n",
    "* I like the idea of trying an OR operation on bunches of binary, depending on the computer architecture\n",
    "* Going to start writing some level of solution now and see where it goes\n",
    "* Made a basic implementation which compares variables directly. Comprehensions will make it more concise but less readable, and sometimes harder to modify.\n",
    "    * Reduced the code a little through a comprehension;\n",
    "    * Checked if True be reliably considered as a 1: https://stackoverflow.com/questions/2764017/is-false-0-and-true-1-in-python-an-implementation-detail-or-is-it-guarante\n",
    "* Looked up XOR of bytestring - https://stackoverflow.com/a/15106386 - but would end up running more operations on the data. If bigger data was being tested - maybe use numpy to do some faster comparisons, or write code in C to manipulate the binary representations of the data. That being said, maybe streaming would be worth checking out. "
   ]
  },
  {
   "cell_type": "markdown",
   "metadata": {},
   "source": [
    "#### Prerequisite imports and declarations"
   ]
  },
  {
   "cell_type": "code",
   "execution_count": 2,
   "metadata": {},
   "outputs": [],
   "source": [
    "import typing\n",
    "\n",
    "try:\n",
    "    from typecheck_magic import typecheck\n",
    "except:\n",
    "    raise Exception(\"Can't import the typecheck magic for Jupyter\")"
   ]
  },
  {
   "cell_type": "markdown",
   "metadata": {},
   "source": [
    "#### The solution"
   ]
  },
  {
   "cell_type": "code",
   "execution_count": 5,
   "metadata": {},
   "outputs": [],
   "source": [
    "def hamming_distance(vector1: typing.Iterable, vector2: typing.Iterable) -> int:\n",
    "    if len(vector1) != len(vector2):\n",
    "        raise Exception(\"Inputs lengths are not equal - can't determined hamming distance\")\n",
    "    return sum([int(x != y) for x, y in zip(vector1, vector2)])\n",
    "\n",
    "# def hamming_distance(vector1: typing.Iterable, vector2: typing.Iterable) -> int:\n",
    "#     if len(vector1) != len(vector2):\n",
    "#         raise Exception(\"Inputs lengths are not equal - can't determined hamming distance\")\n",
    "#     hamming_dist = 0\n",
    "#     for x, y in zip(vector1, vector2):\n",
    "#         if x != y: # integer rep of True is 1, False is 0\n",
    "#             hamming_dist += 1\n",
    "#     return hamming_dist"
   ]
  },
  {
   "cell_type": "markdown",
   "metadata": {},
   "source": [
    "#### Test/Time the solution\n",
    "I was timing the solution to get a baseline for performance, which would be used when writing a batch XORing. In the end, I didn't go any further as conceptually it would be slower (at least in Python)."
   ]
  },
  {
   "cell_type": "code",
   "execution_count": 4,
   "metadata": {},
   "outputs": [
    {
     "name": "stdout",
     "output_type": "stream",
     "text": [
      "9.76 µs ± 278 ns per loop (mean ± std. dev. of 7 runs, 100000 loops each)\n"
     ]
    }
   ],
   "source": [
    "%%timeit\n",
    "assert hamming_distance([],[]) == 0\n",
    "assert hamming_distance([0,1],[0,1]) == 0\n",
    "assert hamming_distance(\"00\",\"01\") == 1\n",
    "assert hamming_distance(\"karolin\", \"kathrin\") == 3\n",
    "assert hamming_distance(\"karolin\", \"kerstin\") == 3\n",
    "assert hamming_distance((1,0,1,1,1,0,1), (1,0,0,1,0,0,1)) == 2\n",
    "assert hamming_distance(\"2173896\", \"2233796\") == 3"
   ]
  }
 ],
 "metadata": {
  "kernelspec": {
   "display_name": "Python 3",
   "language": "python",
   "name": "python3"
  },
  "language_info": {
   "codemirror_mode": {
    "name": "ipython",
    "version": 3
   },
   "file_extension": ".py",
   "mimetype": "text/x-python",
   "name": "python",
   "nbconvert_exporter": "python",
   "pygments_lexer": "ipython3",
   "version": "3.5.5"
  }
 },
 "nbformat": 4,
 "nbformat_minor": 2
}
