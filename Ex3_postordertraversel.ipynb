{
 "cells": [
  {
   "cell_type": "markdown",
   "metadata": {},
   "source": [
    "# Algorithms\n",
    "\n",
    "## Postorder traversal of a tree\n",
    "Given a tree, find the postorder traversal: Leftmost leaf, Leaf to the right of that leaf, root of\n",
    "those, left of the next right branch, etc…\n",
    "https://en.wikipedia.org/wiki/Tree_traversal#Post-order"
   ]
  },
  {
   "cell_type": "markdown",
   "metadata": {},
   "source": [
    "#### Environment\n",
    "* Developed with Python 3.5.5, installed via Anaconda\n",
    "\n",
    "### Thought process\n",
    "* I've used networkx, and that seems relevant\n",
    "* But this is just an algorithm exercise.. probably recursive - overthinking this after the last exercise\n",
    "* Recursive algorithm returns a result, but the order is wrong as it doesn't pay attention to depth of the recursion. Need to prioritize depth!\n",
    "* Function signature doesn't include a depth parameter - would have been a quick fix to the issue, going to work on sorting before recursion.\n",
    "* Double checked problem, left->right order expected, not deepest+left->right (I thought C,E,A,D... expected for a moment)\n",
    "    * So depth tests not required!\n",
    "* Recursive function experiment \"works\"; got the right Type of result (flat list), but wrong order\n",
    "* Appended root node to recursed result, and reversed result to change: G-B-F -> B-G-F "
   ]
  },
  {
   "cell_type": "markdown",
   "metadata": {},
   "source": [
    "#### Prerequisite imports and declarations"
   ]
  },
  {
   "cell_type": "code",
   "execution_count": 2,
   "metadata": {},
   "outputs": [],
   "source": [
    "import typing\n",
    "\n",
    "try:\n",
    "    from typecheck_magic import typecheck\n",
    "except:\n",
    "    raise Exception(\"Can't import the typecheck magic for Jupyter\")\n",
    "try:\n",
    "    import mypy\n",
    "except ImportError:\n",
    "    raise Exception(\"mypy can't be found, which is required by the typecheck magic, please install it\")"
   ]
  },
  {
   "cell_type": "markdown",
   "metadata": {},
   "source": [
    "#### The solution\n",
    "Given:\n",
    "``\n",
    "Tree:\n",
    "     A\n",
    "    / \\\n",
    "   B   C\n",
    "      / \\\n",
    "     D   E\n",
    "``   \n",
    "\n",
    "* Recurse Func gets a flattened list of children\n",
    "* If we look at C-D-E subtree:\n",
    "    * Root = C\n",
    "    * Children = [D,E]\n",
    "* Want D-E-C, so: \n",
    "    * Init flattened tree with the root element, 'C'\n",
    "    * Recurse E (returns just [E]), and append the flattened tree\n",
    "        * ``ret_val = <recurse> + ret_val``\n",
    "    * Then Recurse D, and append the flattened tree\n",
    "    * So recurse the children in reverse because we're appending the flattened tree to the result\n",
    "        * We want leftmost (first child) last \n",
    "    * Gets: C -> E,C -> D,E,C\n"
   ]
  },
  {
   "cell_type": "code",
   "execution_count": 3,
   "metadata": {},
   "outputs": [],
   "source": [
    "%%typecheck --ignore-missing-imports\n",
    "from typing import List\n",
    "\n",
    "def post_order_traversal(tree: List) -> List:\n",
    "    ret_val = [tree[0]] # first element is the current node, following nodes are children\n",
    "    child_nodes = tree[1:]\n",
    "    for el in reversed(child_nodes): # Reverse the order because we insert the recursed result before root\n",
    "        ret_val = post_order_traversal(el) + ret_val\n",
    "    return ret_val"
   ]
  },
  {
   "cell_type": "code",
   "execution_count": 3,
   "metadata": {},
   "outputs": [],
   "source": [
    "# Tree1 = [1, [2, [4], [5], [3]]] # bad structure\n",
    "Tree1 = [1, [2, [4], [5]], [3]]\n",
    "Tree2 = ['f', ['b', ['a'], ['d', ['c'], ['e']]], ['g', ['i', ['h']]]]\n",
    "Tree3 = ['re', ['b', ['orn'], ['ate']], ['alize', ['s']], ['lief'], ['d', ['der']]]\n",
    "assert post_order_traversal(Tree1) == [4,5,2,3,1] # bad tree variable\n",
    "assert post_order_traversal(Tree2) == ['a', 'c', 'e', 'd', 'b', 'h', 'i', 'g', 'f']\n",
    "assert post_order_traversal(Tree3) == ['orn', 'ate', 'b', 's', 'alize', 'lief', 'der', 'd', 're']"
   ]
  }
 ],
 "metadata": {
  "kernelspec": {
   "display_name": "Python 3",
   "language": "python",
   "name": "python3"
  },
  "language_info": {
   "codemirror_mode": {
    "name": "ipython",
    "version": 3
   },
   "file_extension": ".py",
   "mimetype": "text/x-python",
   "name": "python",
   "nbconvert_exporter": "python",
   "pygments_lexer": "ipython3",
   "version": "3.5.5"
  }
 },
 "nbformat": 4,
 "nbformat_minor": 2
}
