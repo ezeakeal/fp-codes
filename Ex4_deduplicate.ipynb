{
 "cells": [
  {
   "cell_type": "markdown",
   "metadata": {},
   "source": [
    "# Databases\n",
    "\n",
    "## Deduplicate\n",
    "Write a SQL query to find all duplicate email addresses.\n",
    "\n",
    "```\n",
    "+--------+----------------------+\n",
    "| Id     | Email                |\n",
    "+--------+----------------------+\n",
    "| 1234   | mpilgrim@example.com |\n",
    "| 2534   | spilgrim@example.com |\n",
    "| 36245  | mpilgrim@example.com |\n",
    "+--------+----------------------+\n",
    "```\n",
    "\n",
    "The above table should give a result like this\n",
    "\n",
    "```\n",
    "+----------------------+\n",
    "| Email                |\n",
    "+----------------------+\n",
    "| mpilgrim@example.com |\n",
    "+----------------------+\n",
    "```"
   ]
  },
  {
   "cell_type": "markdown",
   "metadata": {},
   "source": [
    "#### Environment\n",
    "* Developed with Python 3.5.5, installed via Anaconda\n",
    "\n",
    "### Thought process\n",
    "* Get a quick course in SQL to answer this\n",
    "* I am going to go a bit further and create a sample DB in here to get a bit more familiar - have time\n",
    "* In practice, DB interactions have been abstracted away from me through frameworks. I have prevented duplicate emails by setting the email as a unique constraint\n",
    "    * e.g. https://stackoverflow.com/a/26529552\n",
    "\n",
    "Solution below, but honestly I just googled the commands. I forgot semicolons a few times, and was making some mistakes about closing the connection too early (I closed cursors).\n",
    "\n",
    "#### A summary of my search history:\n",
    "1. `jupyter sql notebook` - tried finding any existing plugins to run sql nicely in a notebook (for display purposes)\n",
    "2. `SQlPad` - curious what that was. Looks interesting, but not what I wanted at the time.\n",
    "3. `python create sql table sqlite` - looking for some examples of sqlite3 being used t create a table.\n",
    "4. `code block markdown` - for formatting this notebook\n",
    "5. `email primary key django` - to remember how I managed unique emails in GAVIP\n",
    "6. `sql insert random values` - wondering if I could spice this up with a generated set of random emails in SQL (easy in python, but wanted to try it in sql)\n",
    "7. `drop table if exists` - double checking syntax for that to make solution repeatable\n",
    "8. `sqlite3 tabulate python example` - I have used `tabulate` before to print tables, so checked for an example of an sql result being printed, but turns out it's straightforward.\n",
    "9. `sql find duplicates` - now I have the pieces in place, find the actual duplicates\n",
    "10. `sqlite3 database is locked python` - solution wasn't easily repeatable.. and a locked database was expected. Tried closing cursors in different places and committing changes, but a connection close at the end sufficed. Will be looking further into those details after initial solutions are complete."
   ]
  },
  {
   "cell_type": "markdown",
   "metadata": {},
   "source": [
    "#### Prerequisite imports and declarations"
   ]
  },
  {
   "cell_type": "code",
   "execution_count": 15,
   "metadata": {},
   "outputs": [],
   "source": [
    "try:\n",
    "    import sqlite3\n",
    "    from tabulate import tabulate\n",
    "except ImportError:\n",
    "    print(\"Pre-requisites are missing, you can install them in a cell by running: '!pip install <name>'\")\n",
    "    raise\n",
    "\n",
    "conn = sqlite3.connect('ex4_emails.db')\n",
    "table_name = \"email_table\"\n",
    "emails = ['mpilgrim@example.com', 'spilgrim@example.com', 'cpilgrim@example.com', 'cpilgrim@example.com', 'mpilgrim@example.com'] "
   ]
  },
  {
   "cell_type": "markdown",
   "metadata": {},
   "source": [
    "#### Setup"
   ]
  },
  {
   "cell_type": "code",
   "execution_count": 16,
   "metadata": {},
   "outputs": [],
   "source": [
    "sql_comm_droptable = \"\"\"\n",
    "DROP TABLE IF EXISTS {table}\n",
    "\"\"\"\n",
    "\n",
    "sql_comm_createtable = \"\"\"\n",
    "CREATE TABLE IF NOT EXISTS {table} (\n",
    " id integer PRIMARY KEY,\n",
    " email text NOT NULL\n",
    ");\n",
    "\"\"\"\n",
    "\n",
    "sql_comm_insertvals = \"\"\"\n",
    "INSERT INTO {table}\n",
    "(email)\n",
    "VALUES {values};\n",
    "\"\"\"\n",
    "\n",
    "try:\n",
    "    c = conn.cursor()\n",
    "    c.execute(sql_comm_droptable.format(table=table_name))\n",
    "    c.execute(sql_comm_createtable.format(table=table_name))\n",
    "    c.execute(sql_comm_insertvals.format(\n",
    "        table=table_name,\n",
    "        values=\",\".join(\"('%s')\" % email for email in emails)\n",
    "    ))\n",
    "except Exception as e:\n",
    "    print(e)    "
   ]
  },
  {
   "cell_type": "markdown",
   "metadata": {},
   "source": [
    "#### Render the table"
   ]
  },
  {
   "cell_type": "code",
   "execution_count": 17,
   "metadata": {},
   "outputs": [
    {
     "name": "stdout",
     "output_type": "stream",
     "text": [
      "+------+----------------------+\n",
      "|   id | email                |\n",
      "|------+----------------------|\n",
      "|    1 | mpilgrim@example.com |\n",
      "|    2 | spilgrim@example.com |\n",
      "|    3 | cpilgrim@example.com |\n",
      "|    4 | cpilgrim@example.com |\n",
      "|    5 | mpilgrim@example.com |\n",
      "+------+----------------------+\n"
     ]
    }
   ],
   "source": [
    "c = conn.cursor()\n",
    "rows = c.execute(\"SELECT * from %s;\" % table_name)\n",
    "print(tabulate(rows, ['id', 'email'], tablefmt='psql'))"
   ]
  },
  {
   "cell_type": "markdown",
   "metadata": {},
   "source": [
    "#### Solution "
   ]
  },
  {
   "cell_type": "code",
   "execution_count": 18,
   "metadata": {},
   "outputs": [
    {
     "name": "stdout",
     "output_type": "stream",
     "text": [
      "+----------------------+\n",
      "| email                |\n",
      "|----------------------|\n",
      "| cpilgrim@example.com |\n",
      "| mpilgrim@example.com |\n",
      "+----------------------+\n"
     ]
    }
   ],
   "source": [
    "sql_comm_findduplicates=\"\"\"\n",
    "SELECT\n",
    "    email\n",
    "FROM\n",
    "    {table}\n",
    "GROUP BY\n",
    "    email\n",
    "HAVING \n",
    "    COUNT(*) > 1;\n",
    "\"\"\"\n",
    "\n",
    "c = conn.cursor()\n",
    "rows = c.execute(sql_comm_findduplicates.format(table=table_name))\n",
    "print(tabulate(rows, ['email'], tablefmt='psql'))"
   ]
  },
  {
   "cell_type": "code",
   "execution_count": 19,
   "metadata": {},
   "outputs": [],
   "source": [
    "conn.close()"
   ]
  }
 ],
 "metadata": {
  "kernelspec": {
   "display_name": "Python 3",
   "language": "python",
   "name": "python3"
  },
  "language_info": {
   "codemirror_mode": {
    "name": "ipython",
    "version": 3
   },
   "file_extension": ".py",
   "mimetype": "text/x-python",
   "name": "python",
   "nbconvert_exporter": "python",
   "pygments_lexer": "ipython3",
   "version": "3.5.5"
  }
 },
 "nbformat": 4,
 "nbformat_minor": 2
}
