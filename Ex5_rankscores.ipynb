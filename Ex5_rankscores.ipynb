{
 "cells": [
  {
   "cell_type": "markdown",
   "metadata": {},
   "source": [
    "# Databases\n",
    "\n",
    "## Rank Scores\n",
    "\n",
    "Write a SQL query which given an arbitrary range will assign a unique rank to each rank in a column\n",
    "named Score.\n",
    "```\n",
    "+----+-------+\n",
    "| Id | Score |\n",
    "+----+-------+\n",
    "| 1  | 3.50  |\n",
    "| 2  | 3.65  |\n",
    "| 3  | 4.00  |\n",
    "| 4  | 3.85  |\n",
    "| 5  | 4.00  |\n",
    "| 6  | 3.65  |\n",
    "+----+-------+\n",
    "```\n",
    "\n",
    "Given the above table, your query should generate the following report:\n",
    "```\n",
    "+-------+------+\n",
    "| Score | Rank |\n",
    "+-------+------+\n",
    "| 4.00  | 1    |\n",
    "| 4.00  | 2    |\n",
    "| 3.85  | 3    |\n",
    "| 3.65  | 4    |\n",
    "| 3.65  | 5    |\n",
    "| 3.50  | 6    |\n",
    "+-------+------+\n",
    "```"
   ]
  },
  {
   "cell_type": "markdown",
   "metadata": {},
   "source": [
    "#### Environment\n",
    "* Developed with Python 3.5.5, installed via Anaconda\n",
    "\n",
    "### Thought process\n",
    "* Re-read the problem, and I can now see that the arbitrary range is an 'arbitrary range of **existing** values'! Now it makes sense.. I was thinking of writing a function to generate random data\n",
    "    * After solving the problem using MySQL 5.6 on SQLFiddle, I am hesitant to put more time into this challenge - especially as SQLLite3 has limited support in some areas.\n",
    "* Assuming for this exercise, the score type is DOUBLE with 4 digits, 2 after the point (00.00) - imagining a percentage range.\n",
    "* Found this example, https://stackoverflow.com/a/7747342, row_number probably what I want for this but that seems so wrong. Maybe Rank/Dense_rank takes parameters\n",
    "* Found another comparison of rank/dense_rank/row_number: https://blog.jooq.org/2013/10/09/sql-trick-row_number-is-to-select-what-dense_rank-is-to-select-distinct/\n",
    "* I'll go ahead with row_number for now anyway just to have a solution\n",
    "* Hmmm. Sqlite doesn't support RANK or ROW_NUMBER...\n",
    "* Tried several other bizarre queries to get it working, but no solution. In the end, I used SQLFiddle to get a solution which works with MySQL 5.6 \n",
    "\n",
    "\n",
    "#### A summary of my search history:\n",
    "1. `sql query range of numbers` - find out how to generate a range through a query. Found https://stackoverflow.com/a/33146869, which pointed to **SQLFiddle** (handy)\n",
    "2. `sql rank unique` - found dense_rank mentioned, seems required.\n",
    "3. Found this example, https://stackoverflow.com/a/7747342, row_number probably what I want for this but that seems so wrong. \n",
    "4. Several frantic repeated searches for SQLite3 row_number work-arounds. Gave up eventually and ran MySQL 5.6 online.\n",
    "\n",
    "### Solution\n",
    "* **Solution can not be provided in the notebook**\n",
    "* http://sqlfiddle.com/#!9/e6180c/3/0\n",
    "* Had to do it online - cells below show some intermediate attempts and a possible untested solution"
   ]
  },
  {
   "cell_type": "markdown",
   "metadata": {},
   "source": [
    "#### Prerequisite imports and declarations"
   ]
  },
  {
   "cell_type": "code",
   "execution_count": null,
   "metadata": {},
   "outputs": [],
   "source": [
    "try:\n",
    "    import sqlite3\n",
    "    from tabulate import tabulate\n",
    "except ImportError:\n",
    "    print(\"Pre-requisites are missing, you can probably install them in a cell by running: '!pip install <name>'\")\n",
    "    raise\n",
    "\n",
    "conn = sqlite3.connect('ex5_ranking.db')\n",
    "table_name = \"scores\"\n",
    "initial_scores = [3.5, 3.65, 4., 3.85, 4., 3.65]"
   ]
  },
  {
   "cell_type": "markdown",
   "metadata": {},
   "source": [
    "#### Setup"
   ]
  },
  {
   "cell_type": "code",
   "execution_count": null,
   "metadata": {},
   "outputs": [],
   "source": [
    "sql_comm_droptable = \"\"\"\n",
    "DROP TABLE IF EXISTS {table}\n",
    "\"\"\"\n",
    "\n",
    "sql_comm_createtable = \"\"\"\n",
    "CREATE TABLE IF NOT EXISTS {table} (\n",
    " id integer PRIMARY KEY,\n",
    " score DOUBLE(4,2) NOT NULL\n",
    ");\n",
    "\"\"\"\n",
    "\n",
    "sql_comm_insertvals = \"\"\"\n",
    "INSERT INTO {table}\n",
    "(score)\n",
    "VALUES {values};\n",
    "\"\"\"\n",
    "\n",
    "try:\n",
    "    c = conn.cursor()\n",
    "    c.execute(sql_comm_droptable.format(table=table_name))\n",
    "    c.execute(sql_comm_createtable.format(table=table_name))\n",
    "    c.execute(sql_comm_insertvals.format(\n",
    "        table=table_name,\n",
    "        values=\",\".join(\"(%s)\" % s for s in initial_scores)\n",
    "    ))\n",
    "except Exception as e:\n",
    "    print(e)    "
   ]
  },
  {
   "cell_type": "markdown",
   "metadata": {},
   "source": [
    "#### Render the table"
   ]
  },
  {
   "cell_type": "code",
   "execution_count": null,
   "metadata": {},
   "outputs": [],
   "source": [
    "c = conn.cursor()\n",
    "rows = c.execute(\"SELECT * from %s;\" % table_name)\n",
    "print(tabulate(rows, ['id', 'score'], tablefmt='psql'))"
   ]
  },
  {
   "cell_type": "code",
   "execution_count": null,
   "metadata": {},
   "outputs": [],
   "source": [
    "#####################\n",
    "# ATTEMPT 1\n",
    "# Theoretical\n",
    "#####################\n",
    "# I think that this will work, but it doesn't work in Sqlite3 \n",
    "# (might need to move or change the DESC part)\n",
    "\n",
    "theoretical_solution=\"\"\"\n",
    "SELECT\n",
    "  score\n",
    "  ROW_NUMBER() OVER (ORDER BY score DESC) AS rank\n",
    "FROM {table};\n",
    "\"\"\"\n",
    "\n",
    "c = conn.cursor()\n",
    "rows = c.execute(sql_comm_rank.format(table=table_name))\n",
    "print(tabulate(rows, ['rank', 'score'], tablefmt='psql'))"
   ]
  },
  {
   "cell_type": "code",
   "execution_count": null,
   "metadata": {},
   "outputs": [],
   "source": [
    "#####################\n",
    "# ATTEMPT 2\n",
    "# RANK() emulated\n",
    "#####################\n",
    "# At least this works, but it's RANK() output, not ROW_NUMBER()\n",
    "\n",
    "sql_comm_rank=\"\"\"\n",
    "SELECT id, score,\n",
    "  (SELECT count(*)+1 FROM {table} AS r \n",
    "      WHERE r.score > {table}.score) as rank\n",
    "  from {table} ORDER by rank;\n",
    "\"\"\"\n",
    "\n",
    "c = conn.cursor()\n",
    "rows = c.execute(sql_comm_rank.format(table=table_name))\n",
    "print(tabulate(rows, ['score', 'rank'], tablefmt='psql'))"
   ]
  },
  {
   "cell_type": "code",
   "execution_count": null,
   "metadata": {},
   "outputs": [],
   "source": [
    "#####################\n",
    "# SOLUTION (MySQL 5.6)\n",
    "# row_number using MySQL\n",
    "#####################\n",
    "# Working but only available on sqlfiddle\n",
    "\n",
    "# --------------------------------\n",
    "# http://sqlfiddle.com/#!9/e6180c/3/0\n",
    "# --------------------------------\n",
    "\n",
    "sql_comm_rank=\"\"\"\n",
    "    SET @row_number = 0;\n",
    "    SELECT \n",
    "        score, (@row_number:=@row_number + 1) AS rank\n",
    "    FROM scores ORDER by score DESC;\n",
    "\"\"\""
   ]
  },
  {
   "cell_type": "code",
   "execution_count": null,
   "metadata": {},
   "outputs": [],
   "source": [
    "conn.close()"
   ]
  }
 ],
 "metadata": {
  "kernelspec": {
   "display_name": "Python 3",
   "language": "python",
   "name": "python3"
  },
  "language_info": {
   "codemirror_mode": {
    "name": "ipython",
    "version": 3
   },
   "file_extension": ".py",
   "mimetype": "text/x-python",
   "name": "python",
   "nbconvert_exporter": "python",
   "pygments_lexer": "ipython3",
   "version": "3.5.5"
  }
 },
 "nbformat": 4,
 "nbformat_minor": 2
}
